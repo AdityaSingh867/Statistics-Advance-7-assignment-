{
 "cells": [
  {
   "cell_type": "markdown",
   "id": "a96fd9d9-3d87-4608-9dc8-ab3c53249a7f",
   "metadata": {},
   "source": [
    "Q1. Write a Python function that takes in two arrays of data and calculates the F-value for a variance ratio\n",
    "test. The function should return the F-value and the corresponding p-value for the test."
   ]
  },
  {
   "cell_type": "code",
   "execution_count": 61,
   "id": "6567c683-8a79-4f5e-ac77-5216cc65323e",
   "metadata": {},
   "outputs": [
    {
     "name": "stderr",
     "output_type": "stream",
     "text": [
      "/tmp/ipykernel_907/4060131363.py:1: VisibleDeprecationWarning: Creating an ndarray from ragged nested sequences (which is a list-or-tuple of lists-or-tuples-or ndarrays with different lengths or shapes) is deprecated. If you meant to do this, you must specify 'dtype=object' when creating the ndarray.\n",
      "  data = np.array([[56,88,95,64,15,21,15] , [85,64,34,56,28,98,71,70,65,89]])\n"
     ]
    }
   ],
   "source": [
    "data = np.array([[56,88,95,64,15,21,15] , [85,64,34,56,28,98,71,70,65,89]])"
   ]
  },
  {
   "cell_type": "code",
   "execution_count": 62,
   "id": "90b568f6-db08-4fff-a8b3-3cc1a2fc31f8",
   "metadata": {},
   "outputs": [],
   "source": [
    "A = data[0]"
   ]
  },
  {
   "cell_type": "code",
   "execution_count": 63,
   "id": "da4d901f-b909-4281-b0a3-18394234bb9d",
   "metadata": {},
   "outputs": [],
   "source": [
    "B = data[1]"
   ]
  },
  {
   "cell_type": "code",
   "execution_count": 64,
   "id": "aa1b2089-f2f9-4db8-a5bb-cafeeb3a9a05",
   "metadata": {},
   "outputs": [
    {
     "data": {
      "text/plain": [
       "([56, 88, 95, 64, 15, 21, 15], [85, 64, 34, 56, 28, 98, 71, 70, 65, 89])"
      ]
     },
     "execution_count": 64,
     "metadata": {},
     "output_type": "execute_result"
    }
   ],
   "source": [
    "A ,B"
   ]
  },
  {
   "cell_type": "code",
   "execution_count": 67,
   "id": "b00462a5-f4cd-45e6-87a0-1d1fe327f8df",
   "metadata": {},
   "outputs": [],
   "source": [
    "A_var = np.var(A)"
   ]
  },
  {
   "cell_type": "code",
   "execution_count": 68,
   "id": "f10fd8c1-c0de-4d00-bf55-6775efb63138",
   "metadata": {},
   "outputs": [],
   "source": [
    "B_var = np.var(B)"
   ]
  },
  {
   "cell_type": "code",
   "execution_count": 69,
   "id": "7412d3c6-bf32-44ef-af73-241c757a37e3",
   "metadata": {},
   "outputs": [],
   "source": [
    "F_Value = A_var / B_var"
   ]
  },
  {
   "cell_type": "code",
   "execution_count": 70,
   "id": "7f46ab2e-9603-4c2a-9f94-de5d03a05b0c",
   "metadata": {},
   "outputs": [
    {
     "data": {
      "text/plain": [
       "2.205235451070888"
      ]
     },
     "execution_count": 70,
     "metadata": {},
     "output_type": "execute_result"
    }
   ],
   "source": [
    "F_Value"
   ]
  },
  {
   "cell_type": "code",
   "execution_count": 71,
   "id": "439105cd-41b1-4a21-92f3-7aa5d69b1eb5",
   "metadata": {},
   "outputs": [],
   "source": [
    "A_L = len(A) - 1\n",
    "\n",
    "B_L = len(B) - 1"
   ]
  },
  {
   "cell_type": "code",
   "execution_count": 72,
   "id": "d02d8817-332c-4ae8-b256-5560efe4df62",
   "metadata": {},
   "outputs": [],
   "source": [
    "p_value = stats.f.cdf(F_Value , A_L , B_L)"
   ]
  },
  {
   "cell_type": "code",
   "execution_count": 73,
   "id": "a66b638e-329b-4157-8e78-bc85ae30348e",
   "metadata": {},
   "outputs": [
    {
     "data": {
      "text/plain": [
       "0.8622250089973424"
      ]
     },
     "execution_count": 73,
     "metadata": {},
     "output_type": "execute_result"
    }
   ],
   "source": [
    "p_value"
   ]
  },
  {
   "cell_type": "markdown",
   "id": "946bcf01-500e-41d6-a287-18a67ac0df06",
   "metadata": {},
   "source": [
    "Q2. Given a significance level of 0.05 and the degrees of freedom for the numerator and denominator of an\n",
    "F-distribution, write a Python function that returns the critical F-value for a two-tailed test."
   ]
  },
  {
   "cell_type": "code",
   "execution_count": 8,
   "id": "ad942303-da16-48af-baba-77d35781463f",
   "metadata": {},
   "outputs": [],
   "source": [
    "dof1 = 66\n",
    "dof2 = 90\n",
    "sig_value = 0.05"
   ]
  },
  {
   "cell_type": "code",
   "execution_count": 9,
   "id": "fc208361-9ec2-4ceb-9978-db5438c3e88a",
   "metadata": {},
   "outputs": [
    {
     "data": {
      "text/plain": [
       "1.559962563183083"
      ]
     },
     "execution_count": 9,
     "metadata": {},
     "output_type": "execute_result"
    }
   ],
   "source": [
    "stats.f.ppf(1 - sig_value/2 , dof1 , dof2)"
   ]
  },
  {
   "cell_type": "markdown",
   "id": "e1968190-b560-4c67-92d5-903de1a2c4b3",
   "metadata": {},
   "source": [
    "Q3. Write a Python program that generates random samples from two normal distributions with known\n",
    "variances and uses an F-test to determine if the variances are equal. The program should output the F-\n",
    "value, degrees of freedom, and p-value for the test."
   ]
  },
  {
   "cell_type": "code",
   "execution_count": 13,
   "id": "77d314c5-68a9-43a9-a244-f4ec4d0afaea",
   "metadata": {},
   "outputs": [],
   "source": [
    "sample_1 = np.random.sample(12)\n",
    "\n",
    "sample_2 = np.random.sample(12)"
   ]
  },
  {
   "cell_type": "code",
   "execution_count": 15,
   "id": "f952954c-009c-41bf-8edd-05de5b8a3eb6",
   "metadata": {},
   "outputs": [
    {
     "data": {
      "text/plain": [
       "(array([0.84229012, 0.4181573 , 0.95835704, 0.93165103, 0.76862642,\n",
       "        0.91724336, 0.6186905 , 0.52144139, 0.01996936, 0.13963304,\n",
       "        0.63119419, 0.11649961]),\n",
       " array([0.25979278, 0.32700739, 0.76923936, 0.30480801, 0.62063413,\n",
       "        0.99269805, 0.16496689, 0.02262849, 0.42736433, 0.28709674,\n",
       "        0.23976519, 0.76876072]))"
      ]
     },
     "execution_count": 15,
     "metadata": {},
     "output_type": "execute_result"
    }
   ],
   "source": [
    "sample_1 , sample_2"
   ]
  },
  {
   "cell_type": "code",
   "execution_count": 16,
   "id": "ba752586-8f8b-41a8-83e6-751d02c108df",
   "metadata": {},
   "outputs": [],
   "source": [
    "var_sample_1 = np.var(sample_1)\n",
    "\n",
    "var_sample_2 = np.var(sample_2)"
   ]
  },
  {
   "cell_type": "code",
   "execution_count": 17,
   "id": "20f7f4cb-0dd3-4b04-a2a0-1e71965d4ef7",
   "metadata": {},
   "outputs": [
    {
     "data": {
      "text/plain": [
       "(0.10338059324609732, 0.07756868430807197)"
      ]
     },
     "execution_count": 17,
     "metadata": {},
     "output_type": "execute_result"
    }
   ],
   "source": [
    "var_sample_1 , var_sample_2"
   ]
  },
  {
   "cell_type": "code",
   "execution_count": 21,
   "id": "3078adba-ebd3-4a7b-903e-5e8ed0316d16",
   "metadata": {},
   "outputs": [],
   "source": [
    "f_test = var_sample_1 / var_sample_2"
   ]
  },
  {
   "cell_type": "code",
   "execution_count": 19,
   "id": "c436d03f-1a27-42b2-a39c-b2d2af753179",
   "metadata": {},
   "outputs": [],
   "source": [
    "dof_sample_1 = len(sample_1) - 1\n",
    "dof_sample_2 = len(sample_2) - 1"
   ]
  },
  {
   "cell_type": "code",
   "execution_count": 20,
   "id": "d45a2381-7a96-4fea-b461-5facabe334af",
   "metadata": {},
   "outputs": [
    {
     "data": {
      "text/plain": [
       "(11, 11)"
      ]
     },
     "execution_count": 20,
     "metadata": {},
     "output_type": "execute_result"
    }
   ],
   "source": [
    "dof_sample_1 , dof_sample_2"
   ]
  },
  {
   "cell_type": "code",
   "execution_count": 22,
   "id": "e001819f-ee2c-4700-8e0c-abfb461807fb",
   "metadata": {},
   "outputs": [],
   "source": [
    "p_value = stats.f.cdf(f_test  ,dof_sample_1 , dof_sample_2)"
   ]
  },
  {
   "cell_type": "code",
   "execution_count": 23,
   "id": "937a8be3-5b8c-445e-abf0-9fc50cef6798",
   "metadata": {},
   "outputs": [
    {
     "data": {
      "text/plain": [
       "0.6789942748026242"
      ]
     },
     "execution_count": 23,
     "metadata": {},
     "output_type": "execute_result"
    }
   ],
   "source": [
    "p_value"
   ]
  },
  {
   "cell_type": "markdown",
   "id": "a7ffac68-67e1-451c-82b3-ad5b0573271e",
   "metadata": {},
   "source": [
    "Q4.The variances of two populations are known to be 10 and 15. A sample of 12 observations is taken from\n",
    "each population. Conduct an F-test at the 5% significance level to determine if the variances are\n",
    "significantly different."
   ]
  },
  {
   "cell_type": "markdown",
   "id": "bdbf7d58-74cb-49bc-952c-97ac093556ee",
   "metadata": {},
   "source": [
    "F - test = variance of (A) / variance of (B)\n",
    "\n",
    "= 10 / 15\n",
    "\n",
    "= 0.6666"
   ]
  },
  {
   "cell_type": "code",
   "execution_count": 37,
   "id": "de180541-76da-4570-82a9-05c265bf4340",
   "metadata": {},
   "outputs": [],
   "source": [
    "F_Test = 0.666"
   ]
  },
  {
   "cell_type": "markdown",
   "id": "cac34080-e7b2-4646-8ed6-2d41ce49ec28",
   "metadata": {},
   "source": [
    "__critical value =  2.943__"
   ]
  },
  {
   "cell_type": "code",
   "execution_count": 36,
   "id": "bf9c7b99-7fde-4616-b9c7-578befdb5073",
   "metadata": {},
   "outputs": [],
   "source": [
    "critical_value =  2.943"
   ]
  },
  {
   "cell_type": "code",
   "execution_count": 38,
   "id": "b92f887d-6e91-41f6-81d0-40f33c249a01",
   "metadata": {},
   "outputs": [
    {
     "name": "stdout",
     "output_type": "stream",
     "text": [
      "We fail to reject the null hypothesis\n"
     ]
    }
   ],
   "source": [
    "if F_Test > critical_value :\n",
    "    print(\"We reject the null hypothesis\")\n",
    "    \n",
    "else : \n",
    "    print(\"We fail to reject the null hypothesis\")"
   ]
  },
  {
   "cell_type": "markdown",
   "id": "4fb523b2-248f-4dc3-97a2-8a5b954b51c6",
   "metadata": {},
   "source": [
    "Q5. A manufacturer claims that the variance of the diameter of a certain product is 0.005. A sample of 25\n",
    "products is taken, and the sample variance is found to be 0.006. Conduct an F-test at the 1% significance\n",
    "level to determine if the claim is justified."
   ]
  },
  {
   "cell_type": "code",
   "execution_count": 39,
   "id": "db315a61-944a-47c4-b6f3-0cc0848d7cf6",
   "metadata": {},
   "outputs": [],
   "source": [
    "F_Test = 0.005 / 0.006"
   ]
  },
  {
   "cell_type": "markdown",
   "id": "e306deb7-2b1a-4630-86d7-4215276b9960",
   "metadata": {},
   "source": [
    "critical value = 2.65907211"
   ]
  },
  {
   "cell_type": "code",
   "execution_count": 41,
   "id": "4f282af5-f37a-4224-bf4d-f2ffb109e4ee",
   "metadata": {},
   "outputs": [
    {
     "data": {
      "text/plain": [
       "0.8333333333333334"
      ]
     },
     "execution_count": 41,
     "metadata": {},
     "output_type": "execute_result"
    }
   ],
   "source": [
    "F_Test"
   ]
  },
  {
   "cell_type": "code",
   "execution_count": 42,
   "id": "8c172684-cb71-4fd4-9b12-6cbb44b17658",
   "metadata": {},
   "outputs": [
    {
     "name": "stdout",
     "output_type": "stream",
     "text": [
      "We fail to reject the null hypothisis\n"
     ]
    }
   ],
   "source": [
    "if F_Test > critical_value :\n",
    "    print('We reject the null hypothisis')\n",
    "    \n",
    "else :\n",
    "    print('We fail to reject the null hypothisis')"
   ]
  },
  {
   "cell_type": "markdown",
   "id": "c8af88c4-14ae-41a3-817e-f58f222393e3",
   "metadata": {},
   "source": [
    "Q6. Write a Python function that takes in the degrees of freedom for the numerator and denominator of an\n",
    "F-distribution and calculates the mean and variance of the distribution. The function should return the\n",
    "mean and variance as a tuple."
   ]
  },
  {
   "cell_type": "code",
   "execution_count": 1,
   "id": "026a1e78-b566-4327-8e2e-bbc26fe1911f",
   "metadata": {},
   "outputs": [],
   "source": [
    "import numpy as np\n",
    "import scipy.stats as stats"
   ]
  },
  {
   "cell_type": "code",
   "execution_count": 17,
   "id": "8b88fbe0-4763-452c-8e8b-ad072be36a8b",
   "metadata": {},
   "outputs": [],
   "source": [
    "worker1= [18, 19, 22, 25, 27, 28, 41, 45, 51, 55]\n",
    "worker2= [14, 15, 15, 17, 18, 22, 25, 25, 27, 34,45,97,25,65,85]"
   ]
  },
  {
   "cell_type": "code",
   "execution_count": 19,
   "id": "9a3d0ac9-0f2c-4a1c-85c0-111711c8ed0e",
   "metadata": {},
   "outputs": [],
   "source": [
    "F_Test = np.var(worker1)/np.var(worker2)"
   ]
  },
  {
   "cell_type": "code",
   "execution_count": 21,
   "id": "1f93781e-7537-422b-bf0d-c7c9fd8c1e8f",
   "metadata": {},
   "outputs": [],
   "source": [
    "DoF_1 = len(worker1) - 1\n",
    "DoF_2 = len(worker2) - 2\n",
    "sing_value = 0.05"
   ]
  },
  {
   "cell_type": "code",
   "execution_count": 22,
   "id": "6867d70f-f983-44b7-b116-4f2a5c54fb82",
   "metadata": {},
   "outputs": [
    {
     "data": {
      "text/plain": [
       "(9, 13)"
      ]
     },
     "execution_count": 22,
     "metadata": {},
     "output_type": "execute_result"
    }
   ],
   "source": [
    "DoF_1 , DoF_2"
   ]
  },
  {
   "cell_type": "code",
   "execution_count": 29,
   "id": "9cd83aaa-ec78-4569-a267-4f3b3b7ac274",
   "metadata": {},
   "outputs": [],
   "source": [
    "critical_value = stats.f.ppf(1-sing_value ,DoF_1 ,DoF_1)"
   ]
  },
  {
   "cell_type": "code",
   "execution_count": 30,
   "id": "cd702f08-26a1-42da-a54d-940cdbc3003e",
   "metadata": {},
   "outputs": [
    {
     "data": {
      "text/plain": [
       "3.178893104458269"
      ]
     },
     "execution_count": 30,
     "metadata": {},
     "output_type": "execute_result"
    }
   ],
   "source": [
    "critical_value"
   ]
  },
  {
   "cell_type": "code",
   "execution_count": 31,
   "id": "46fb5b6b-4466-4c0b-81e7-5abdbdb65b61",
   "metadata": {},
   "outputs": [
    {
     "data": {
      "text/plain": [
       "0.25941499273793533"
      ]
     },
     "execution_count": 31,
     "metadata": {},
     "output_type": "execute_result"
    }
   ],
   "source": [
    "F_Test"
   ]
  },
  {
   "cell_type": "code",
   "execution_count": 32,
   "id": "3da8e98a-9077-4c72-968e-c1698437754b",
   "metadata": {},
   "outputs": [
    {
     "name": "stdout",
     "output_type": "stream",
     "text": [
      "We fail to reject the null hypothesis\n"
     ]
    }
   ],
   "source": [
    "if F_Test > critical_value :\n",
    "    print('We reject the null hypothesis')\n",
    "    \n",
    "else :\n",
    "    print('We fail to reject the null hypothesis')"
   ]
  },
  {
   "cell_type": "markdown",
   "id": "9375a748-2a0c-409e-83ac-25354bb50691",
   "metadata": {},
   "source": [
    "Q7. A random sample of 10 measurements is taken from a normal population with unknown variance. The\n",
    "sample variance is found to be 25. Another random sample of 15 measurements is taken from another\n",
    "normal population with unknown variance, and the sample variance is found to be 20. Conduct an F-test\n",
    "at the 10% significance level to determine if the variances are significantly different."
   ]
  },
  {
   "cell_type": "markdown",
   "id": "60ea7353-9cfc-4852-888b-21b3db8ba671",
   "metadata": {},
   "source": [
    "random (A) sample of 10 measurements\n",
    "\n",
    "random (B) sample of 15 measurements"
   ]
  },
  {
   "cell_type": "markdown",
   "id": "79b45812-ea2d-452d-90c7-9a6151645155",
   "metadata": {},
   "source": [
    "Sample Variance of A = 25\n",
    "\n",
    "Sample Variance of B = 20"
   ]
  },
  {
   "cell_type": "markdown",
   "id": "a69e8967-21ff-4431-b3e6-f7b1cb49efe3",
   "metadata": {},
   "source": [
    "F - test = 25 / 20"
   ]
  },
  {
   "cell_type": "code",
   "execution_count": 13,
   "id": "b4eb89c5-66c6-48d1-9f0b-9e62071da1ab",
   "metadata": {},
   "outputs": [],
   "source": [
    "F_test = 1.25"
   ]
  },
  {
   "cell_type": "markdown",
   "id": "9c0c4f5b-39bd-4597-a6ad-feddfe84feb6",
   "metadata": {},
   "source": [
    "__Critical Value = 1.93766__"
   ]
  },
  {
   "cell_type": "code",
   "execution_count": 15,
   "id": "7f69c727-702c-43fb-bf3e-342ac3c5bbdf",
   "metadata": {},
   "outputs": [],
   "source": [
    "Critical_Value = 1.93766"
   ]
  },
  {
   "cell_type": "code",
   "execution_count": 16,
   "id": "730fb84f-c980-4fe5-a023-3a71cfa1b395",
   "metadata": {},
   "outputs": [
    {
     "name": "stdout",
     "output_type": "stream",
     "text": [
      "We fail to reject the null hypothesis\n"
     ]
    }
   ],
   "source": [
    "if F_test > Critical_Value :\n",
    "    print(\"We reject the null hypothesis\")\n",
    "    \n",
    "else :\n",
    "    print(\"We fail to reject the null hypothesis\")"
   ]
  },
  {
   "cell_type": "markdown",
   "id": "86933c32-4d58-4346-8a76-9b750ac5220d",
   "metadata": {},
   "source": [
    "Q8. The following data represent the waiting times in minutes at two different restaurants on a Saturday\n",
    "night: Restaurant A: 24, 25, 28, 23, 22, 20, 27; Restaurant B: 31, 33, 35, 30, 32, 36. Conduct an F-test at the 5%\n",
    "significance level to determine if the variances are significantly different."
   ]
  },
  {
   "cell_type": "markdown",
   "id": "5f5b644c-af13-4e86-a149-d9dbced332c2",
   "metadata": {},
   "source": [
    "Restaurant A: 24, 25, 28, 23, 22, 20, 27\n",
    "\n",
    "Restaurant B: 31, 33, 35, 30, 32, 36"
   ]
  },
  {
   "cell_type": "markdown",
   "id": "dde1fcf3-519d-47d1-8bfc-931c1077b3cc",
   "metadata": {},
   "source": [
    "Mean of Restaurant A = 24 (approximately)\n",
    "\n",
    "Mean of Restaurant B =32.8 (approximately)"
   ]
  },
  {
   "cell_type": "markdown",
   "id": "2629aabe-ded5-4ac4-91f2-e293e340ba20",
   "metadata": {},
   "source": [
    "Variance of Restaurant A = 7.8 \n",
    "\n",
    "Variance of Restaurant B = 5.368"
   ]
  },
  {
   "cell_type": "markdown",
   "id": "29b1655f-6f52-44a7-aa5b-94d8af732984",
   "metadata": {},
   "source": [
    "calculate of variance of F-Test = variance of Restaurant A / variance of Restaurant B\n",
    "\n",
    "= 7.8 / 5.368\n",
    "\n",
    "= 1.45"
   ]
  },
  {
   "cell_type": "code",
   "execution_count": 9,
   "id": "5dc412b0-deff-4135-9623-797b4fb35f8d",
   "metadata": {},
   "outputs": [],
   "source": [
    "calculate_of_variance_of_F_Test = 1.45"
   ]
  },
  {
   "cell_type": "markdown",
   "id": "af3da9e1-094d-4339-8b16-4020990769a7",
   "metadata": {},
   "source": [
    "DOF Restaurant A = 7 - 1 = 6\n",
    "\n",
    "DOF Restaurant B = 6 - 1 = 5"
   ]
  },
  {
   "cell_type": "markdown",
   "id": "1636eb32-9633-4d84-9467-750123439be7",
   "metadata": {},
   "source": [
    "Critical Value = 4.9503"
   ]
  },
  {
   "cell_type": "code",
   "execution_count": 11,
   "id": "5fbc6067-77ab-4255-a2e4-69bd81fe0285",
   "metadata": {},
   "outputs": [],
   "source": [
    "Critical_Value = 4.9503"
   ]
  },
  {
   "cell_type": "code",
   "execution_count": 12,
   "id": "dda2492b-ed46-4982-bece-c1aa97a2f5be",
   "metadata": {},
   "outputs": [
    {
     "name": "stdout",
     "output_type": "stream",
     "text": [
      "We fail to  reject the null hypothesis\n"
     ]
    }
   ],
   "source": [
    "if calculate_of_variance_of_F_Test > Critical_Value :\n",
    "    print('We reject the null hypothesis')\n",
    "    \n",
    "else : \n",
    "    print('We fail to  reject the null hypothesis')"
   ]
  },
  {
   "cell_type": "markdown",
   "id": "069e0db9-0bd7-4d2a-af0c-1d4be81c26cc",
   "metadata": {},
   "source": [
    "Q9. The following data represent the test scores of two groups of students: Group A: 80, 85, 90, 92, 87, 83;\n",
    "Group B: 75, 78, 82, 79, 81, 84. Conduct an F-test at the 1% significance level to determine if the variances\n",
    "are significantly different."
   ]
  },
  {
   "cell_type": "markdown",
   "id": "c6874303-2ac2-47e1-9339-91a331d737ab",
   "metadata": {},
   "source": [
    "Group A    -     80, 85, 90, 92, 87, 83\n",
    "\n",
    "Group B    -     75, 78, 82, 79, 81, 84"
   ]
  },
  {
   "cell_type": "markdown",
   "id": "eeb660d6-694d-4bad-b256-9f21ec58e636",
   "metadata": {},
   "source": [
    "Mean of Group A = 86 (approximately)\n",
    "\n",
    "Mean of Group A = 79 (approximately)"
   ]
  },
  {
   "cell_type": "markdown",
   "id": "0be32fc7-e940-4b55-9f8c-ccf827064dfe",
   "metadata": {},
   "source": [
    "Variance of Group A = 19.8\n",
    "\n",
    "Variance of Group B = 11"
   ]
  },
  {
   "cell_type": "markdown",
   "id": "12f2076c-5543-45e9-8264-8146d7b9ad56",
   "metadata": {},
   "source": [
    "calculate of variance of F-Test = variance of Group A / variance of Group B\n",
    "\n",
    "= 19.8 / 11\n",
    "\n",
    "= 1.8"
   ]
  },
  {
   "cell_type": "code",
   "execution_count": 6,
   "id": "d994a5be-67f6-4d6c-9913-9d37b8c80134",
   "metadata": {},
   "outputs": [],
   "source": [
    "calculate_of_variance_of_F_Test = 1.8"
   ]
  },
  {
   "cell_type": "markdown",
   "id": "1bcc5229-76bb-4e02-9886-6999a50e3190",
   "metadata": {},
   "source": [
    "DOF for Group A = 6 - 1 = 5\n",
    "\n",
    "DOF for Group B = 6 - 1 = 5"
   ]
  },
  {
   "cell_type": "markdown",
   "id": "490ae0cd-3ac2-4e67-82d2-f43ee3f4d3e3",
   "metadata": {},
   "source": [
    "Critical Value = 10.967"
   ]
  },
  {
   "cell_type": "code",
   "execution_count": 7,
   "id": "dc82adc6-b2c9-4030-849c-8b4f9e021aca",
   "metadata": {},
   "outputs": [],
   "source": [
    "Critical_Value = 10.967"
   ]
  },
  {
   "cell_type": "code",
   "execution_count": 8,
   "id": "844f18f3-4bb3-4fbd-ae84-bb7132d6dd71",
   "metadata": {},
   "outputs": [
    {
     "name": "stdout",
     "output_type": "stream",
     "text": [
      "We fail to the reject the null hypothesis\n"
     ]
    }
   ],
   "source": [
    "if calculate_of_variance_of_F_Test  > Critical_Value :\n",
    "    print('We reject the null hypothesis')\n",
    "    \n",
    "else :\n",
    "    print('We fail to the reject the null hypothesis')"
   ]
  }
 ],
 "metadata": {
  "kernelspec": {
   "display_name": "Python 3 (ipykernel)",
   "language": "python",
   "name": "python3"
  },
  "language_info": {
   "codemirror_mode": {
    "name": "ipython",
    "version": 3
   },
   "file_extension": ".py",
   "mimetype": "text/x-python",
   "name": "python",
   "nbconvert_exporter": "python",
   "pygments_lexer": "ipython3",
   "version": "3.10.8"
  }
 },
 "nbformat": 4,
 "nbformat_minor": 5
}
